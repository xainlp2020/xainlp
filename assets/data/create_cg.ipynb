{
 "cells": [
  {
   "cell_type": "code",
   "execution_count": 1,
   "metadata": {},
   "outputs": [],
   "source": [
    "import json"
   ]
  },
  {
   "cell_type": "code",
   "execution_count": 2,
   "metadata": {},
   "outputs": [],
   "source": [
    "with open(\"./xaipapers.json\", 'r') as file:\n",
    "    xaipapers = json.load(file)\n",
    "    \n",
    "papers_by_years = {}"
   ]
  },
  {
   "cell_type": "code",
   "execution_count": 3,
   "metadata": {},
   "outputs": [],
   "source": [
    "for exp_type in xaipapers:\n",
    "    papers = xaipapers[exp_type]\n",
    "    for paper in papers:\n",
    "        year = paper['year']\n",
    "        if year in papers_by_years:\n",
    "            papers_by_years[year].append(paper)\n",
    "        else:\n",
    "            papers_by_years[year] = [paper]"
   ]
  },
  {
   "cell_type": "code",
   "execution_count": 5,
   "metadata": {},
   "outputs": [
    {
     "name": "stdout",
     "output_type": "stream",
     "text": [
      "\n",
      "2014\n",
      "37 https://www.aclweb.org/anthology/D14-1052.pdf\n",
      "\n",
      "2015\n",
      "57 https://www.aclweb.org/anthology/P15-1055/\n",
      "\n",
      "2016\n",
      "45 https://www.kdd.org/kdd2016/papers/files/rfp0573-ribeiroA.pdf\n",
      "5 https://pdfs.semanticscholar.org/331b/2dcd5f6250bd28c6f46cab09b474dce6e9a6.pdf\n",
      "26 https://www.aclweb.org/anthology/C16-2032.pdf\n",
      "\n",
      "2017\n",
      "46 https://www.ijcai.org/Proceedings/2017/0371.pdf\n",
      "3 https://www.aclweb.org/anthology/D17-1042.pdf\n",
      "36 https://www.aclweb.org/anthology/D17-2016.pdf\n",
      "27 https://www.aclweb.org/anthology/P17-1015.pdf\n",
      "59 https://www.aclweb.org/anthology/P17-1088.pdf\n",
      "20 http://www.cs.cmu.edu/~dongyeok/papers/emnlp17_explain.pdf\n",
      "2 https://www.aclweb.org/anthology/D17-2011.pdf\n",
      "\n",
      "2018\n",
      "10 https://www.aclweb.org/anthology/W18-5403.pdf\n",
      "58 https://www.aclweb.org/anthology/W18-5416.pdf\n",
      "15 https://www.aclweb.org/anthology/W18-5418.pdf\n",
      "16 https://www.aclweb.org/anthology/W18-5434.pdf\n",
      "41 https://www.aclweb.org/anthology/P18-1032/\n",
      "34 https://www.aclweb.org/anthology/N18-1100.pdf\n",
      "91 https://www.aclweb.org/anthology/D18-1365.pdf\n",
      "13 https://www.aclweb.org/anthology/D18-1537.pdf\n",
      "21 https://www.aclweb.org/anthology/N18-2110.pdf\n",
      "9 https://www.aclweb.org/anthology/D18-1386.pdf\n",
      "32 https://www.ijcai.org/Proceedings/2018/0590.pdf\n",
      "8 https://www.aclweb.org/anthology/D18-1508.pdf\n",
      "17 https://www.aaai.org/ocs/index.php/AAAI/AAAI18/paper/view/16629/16066\n",
      "6 https://www.aclweb.org/anthology/P18-1208/\n",
      "62 https://www.aclweb.org/anthology/C18-1171.pdf\n",
      "56 https://www.aclweb.org/anthology/W18-5427/\n",
      "12 https://www.aclweb.org/anthology/W18-5439.pdf\n",
      "22 https://www.aclweb.org/anthology/W18-5410.pdf\n",
      "35 https://www.aaai.org/ocs/index.php/AAAI/AAAI18/paper/view/16673/15848\n",
      "44 https://www.aclweb.org/anthology/W18-5415/\n",
      "43 https://nlp.stanford.edu/pubs/pryzant2018lexicon.pdf\n",
      "30 https://dl.acm.org/doi/pdf/10.1145/3219819.3220001\n",
      "201 https://www.aclweb.org/anthology/C18-1058.pdf\n",
      "\n",
      "2019\n",
      "49 https://www.aclweb.org/anthology/N19-4006.pdf\n",
      "24 https://www.aclweb.org/anthology/N19-1420.pdf\n",
      "54 https://www.aclweb.org/anthology/N19-1101.pdf\n",
      "97 https://www.aclweb.org/anthology/D19-1455.pdf\n",
      "93 https://www.aclweb.org/anthology/D19-1017.pdf\n",
      "66 https://www.aclweb.org/anthology/P19-1006.pdf\n",
      "65 https://www.aclweb.org/anthology/P19-1560.pdf\n",
      "69 https://www.aclweb.org/anthology/P19-1331/\n",
      "4 https://www.aclweb.org/anthology/N19-1245.pdf\n",
      "40 https://www.aclweb.org/anthology/N19-1337/\n",
      "67 https://www.aclweb.org/anthology/P19-1261.pdf\n",
      "63 https://www.aclweb.org/anthology/P19-1081.pdf\n",
      "64 https://www.aclweb.org/anthology/P19-1487.pdf\n",
      "84 https://www.aclweb.org/anthology/D19-1415.pdf\n",
      "70 https://www.aclweb.org/anthology/P19-1488.pdf\n",
      "200 https://www.aclweb.org/anthology/P19-3023.pdf\n",
      "42 https://www.aclweb.org/anthology/N19-1038.pdf\n"
     ]
    }
   ],
   "source": [
    "for year in sorted(papers_by_years):\n",
    "    print()\n",
    "    print(year)\n",
    "    for paper in papers_by_years[year]:\n",
    "        print(paper['id'], paper[\"link\"])"
   ]
  },
  {
   "cell_type": "code",
   "execution_count": 6,
   "metadata": {},
   "outputs": [],
   "source": [
    "citation_graphs = [\n",
    "    {\n",
    "        \"year\": 2014,\n",
    "        \"graph\": []\n",
    "    },\n",
    "    {\n",
    "        \"year\": 2015,\n",
    "        \"graph\": []\n",
    "    },\n",
    "    {\n",
    "        \"year\": 2016,\n",
    "        \"graph\": []\n",
    "    },\n",
    "    {\n",
    "        \"year\": 2017,\n",
    "        \"graph\": []\n",
    "    },\n",
    "    {\n",
    "        \"year\": 2018,\n",
    "        \"graph\": []\n",
    "    },\n",
    "    {\n",
    "        \"year\": 2019,\n",
    "        \"graph\": []\n",
    "    }\n",
    "]"
   ]
  },
  {
   "cell_type": "code",
   "execution_count": 7,
   "metadata": {},
   "outputs": [
    {
     "ename": "SyntaxError",
     "evalue": "invalid syntax (<ipython-input-7-82196b4b06ad>, line 1)",
     "output_type": "error",
     "traceback": [
      "\u001b[0;36m  File \u001b[0;32m\"<ipython-input-7-82196b4b06ad>\"\u001b[0;36m, line \u001b[0;32m1\u001b[0m\n\u001b[0;31m    curl -X POST -u \"apikey\":\"e-Ch-WQOIh_hk8fsf9uA1CPwhHV74Yet5CT4buwDI-7W\" -H 'Accept: text/html' -F 'file=@https://www.aclweb.org/anthology/D14-1052.pdf;type=application/pdf' https://gateway.watsonplatform.net/compare-comply/api/v1/html_conversion?version=2018-10-15 > test.html\u001b[0m\n\u001b[0m               ^\u001b[0m\n\u001b[0;31mSyntaxError\u001b[0m\u001b[0;31m:\u001b[0m invalid syntax\n"
     ]
    }
   ],
   "source": [
    "\n",
    "curl -X POST -u \"apikey\":\"e-Ch-WQOIh_hk8fsf9uA1CPwhHV74Yet5CT4buwDI-7W\" -H 'Accept: text/html' -F 'file=@https://www.aclweb.org/anthology/D14-1052.pdf;type=application/pdf' https://gateway.watsonplatform.net/compare-comply/api/v1/html_conversion?version=2018-10-15 > test.html\n",
    "        \n",
    "        \n",
    "        "
   ]
  },
  {
   "cell_type": "code",
   "execution_count": 12,
   "metadata": {},
   "outputs": [
    {
     "data": {
      "text/plain": [
       "('test.pdf', <http.client.HTTPMessage at 0x10fadf410>)"
      ]
     },
     "execution_count": 12,
     "metadata": {},
     "output_type": "execute_result"
    }
   ],
   "source": [
    "\"\"\"download pdf online\"\"\"\n",
    "from pathlib import Path\n",
    "import requests\n",
    "\n",
    "filename = Path('test.pdf')\n",
    "url = 'https://www.aclweb.org/anthology/P15-1055.pdf'\n",
    "\n",
    "import urllib.request\n",
    "urllib.request.urlretrieve(url, \"test.pdf\")\n",
    "\n"
   ]
  },
  {
   "cell_type": "code",
   "execution_count": null,
   "metadata": {},
   "outputs": [],
   "source": []
  }
 ],
 "metadata": {
  "kernelspec": {
   "display_name": "Python 3",
   "language": "python",
   "name": "python3"
  },
  "language_info": {
   "codemirror_mode": {
    "name": "ipython",
    "version": 3
   },
   "file_extension": ".py",
   "mimetype": "text/x-python",
   "name": "python",
   "nbconvert_exporter": "python",
   "pygments_lexer": "ipython3",
   "version": "3.7.4"
  }
 },
 "nbformat": 4,
 "nbformat_minor": 2
}
